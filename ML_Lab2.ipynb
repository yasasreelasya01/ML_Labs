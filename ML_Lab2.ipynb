{
 "cells": [
  {
   "cell_type": "code",
   "execution_count": 18,
   "id": "28db6ecf",
   "metadata": {},
   "outputs": [],
   "source": [
    "import pandas as pd\n",
    "import numpy as np"
   ]
  },
  {
   "cell_type": "code",
   "execution_count": 8,
   "id": "dd635fac",
   "metadata": {},
   "outputs": [],
   "source": [
    "data = pd.read_excel('Lab Session Data (3).xlsx', sheet_name = 'thyroid0387_UCI')"
   ]
  },
  {
   "cell_type": "code",
   "execution_count": 9,
   "id": "24827b4a",
   "metadata": {},
   "outputs": [
    {
     "data": {
      "text/html": [
       "<div>\n",
       "<style scoped>\n",
       "    .dataframe tbody tr th:only-of-type {\n",
       "        vertical-align: middle;\n",
       "    }\n",
       "\n",
       "    .dataframe tbody tr th {\n",
       "        vertical-align: top;\n",
       "    }\n",
       "\n",
       "    .dataframe thead th {\n",
       "        text-align: right;\n",
       "    }\n",
       "</style>\n",
       "<table border=\"1\" class=\"dataframe\">\n",
       "  <thead>\n",
       "    <tr style=\"text-align: right;\">\n",
       "      <th></th>\n",
       "      <th>Record ID</th>\n",
       "      <th>age</th>\n",
       "      <th>sex</th>\n",
       "      <th>on thyroxine</th>\n",
       "      <th>query on thyroxine</th>\n",
       "      <th>on antithyroid medication</th>\n",
       "      <th>sick</th>\n",
       "      <th>pregnant</th>\n",
       "      <th>thyroid surgery</th>\n",
       "      <th>I131 treatment</th>\n",
       "      <th>...</th>\n",
       "      <th>TT4 measured</th>\n",
       "      <th>TT4</th>\n",
       "      <th>T4U measured</th>\n",
       "      <th>T4U</th>\n",
       "      <th>FTI measured</th>\n",
       "      <th>FTI</th>\n",
       "      <th>TBG measured</th>\n",
       "      <th>TBG</th>\n",
       "      <th>referral source</th>\n",
       "      <th>Condition</th>\n",
       "    </tr>\n",
       "  </thead>\n",
       "  <tbody>\n",
       "    <tr>\n",
       "      <th>0</th>\n",
       "      <td>840801013</td>\n",
       "      <td>29</td>\n",
       "      <td>F</td>\n",
       "      <td>f</td>\n",
       "      <td>f</td>\n",
       "      <td>f</td>\n",
       "      <td>f</td>\n",
       "      <td>f</td>\n",
       "      <td>f</td>\n",
       "      <td>f</td>\n",
       "      <td>...</td>\n",
       "      <td>f</td>\n",
       "      <td>?</td>\n",
       "      <td>f</td>\n",
       "      <td>?</td>\n",
       "      <td>f</td>\n",
       "      <td>?</td>\n",
       "      <td>f</td>\n",
       "      <td>?</td>\n",
       "      <td>other</td>\n",
       "      <td>NO CONDITION</td>\n",
       "    </tr>\n",
       "    <tr>\n",
       "      <th>1</th>\n",
       "      <td>840801014</td>\n",
       "      <td>29</td>\n",
       "      <td>F</td>\n",
       "      <td>f</td>\n",
       "      <td>f</td>\n",
       "      <td>f</td>\n",
       "      <td>f</td>\n",
       "      <td>f</td>\n",
       "      <td>f</td>\n",
       "      <td>f</td>\n",
       "      <td>...</td>\n",
       "      <td>t</td>\n",
       "      <td>128</td>\n",
       "      <td>f</td>\n",
       "      <td>?</td>\n",
       "      <td>f</td>\n",
       "      <td>?</td>\n",
       "      <td>f</td>\n",
       "      <td>?</td>\n",
       "      <td>other</td>\n",
       "      <td>NO CONDITION</td>\n",
       "    </tr>\n",
       "    <tr>\n",
       "      <th>2</th>\n",
       "      <td>840801042</td>\n",
       "      <td>41</td>\n",
       "      <td>F</td>\n",
       "      <td>f</td>\n",
       "      <td>f</td>\n",
       "      <td>f</td>\n",
       "      <td>f</td>\n",
       "      <td>f</td>\n",
       "      <td>f</td>\n",
       "      <td>f</td>\n",
       "      <td>...</td>\n",
       "      <td>f</td>\n",
       "      <td>?</td>\n",
       "      <td>f</td>\n",
       "      <td>?</td>\n",
       "      <td>f</td>\n",
       "      <td>?</td>\n",
       "      <td>t</td>\n",
       "      <td>11</td>\n",
       "      <td>other</td>\n",
       "      <td>NO CONDITION</td>\n",
       "    </tr>\n",
       "    <tr>\n",
       "      <th>3</th>\n",
       "      <td>840803046</td>\n",
       "      <td>36</td>\n",
       "      <td>F</td>\n",
       "      <td>f</td>\n",
       "      <td>f</td>\n",
       "      <td>f</td>\n",
       "      <td>f</td>\n",
       "      <td>f</td>\n",
       "      <td>f</td>\n",
       "      <td>f</td>\n",
       "      <td>...</td>\n",
       "      <td>f</td>\n",
       "      <td>?</td>\n",
       "      <td>f</td>\n",
       "      <td>?</td>\n",
       "      <td>f</td>\n",
       "      <td>?</td>\n",
       "      <td>t</td>\n",
       "      <td>26</td>\n",
       "      <td>other</td>\n",
       "      <td>NO CONDITION</td>\n",
       "    </tr>\n",
       "    <tr>\n",
       "      <th>4</th>\n",
       "      <td>840803047</td>\n",
       "      <td>32</td>\n",
       "      <td>F</td>\n",
       "      <td>f</td>\n",
       "      <td>f</td>\n",
       "      <td>f</td>\n",
       "      <td>f</td>\n",
       "      <td>f</td>\n",
       "      <td>f</td>\n",
       "      <td>f</td>\n",
       "      <td>...</td>\n",
       "      <td>f</td>\n",
       "      <td>?</td>\n",
       "      <td>f</td>\n",
       "      <td>?</td>\n",
       "      <td>f</td>\n",
       "      <td>?</td>\n",
       "      <td>t</td>\n",
       "      <td>36</td>\n",
       "      <td>other</td>\n",
       "      <td>S</td>\n",
       "    </tr>\n",
       "  </tbody>\n",
       "</table>\n",
       "<p>5 rows × 31 columns</p>\n",
       "</div>"
      ],
      "text/plain": [
       "   Record ID  age sex on thyroxine query on thyroxine  \\\n",
       "0  840801013   29   F            f                  f   \n",
       "1  840801014   29   F            f                  f   \n",
       "2  840801042   41   F            f                  f   \n",
       "3  840803046   36   F            f                  f   \n",
       "4  840803047   32   F            f                  f   \n",
       "\n",
       "  on antithyroid medication sick pregnant thyroid surgery I131 treatment  ...  \\\n",
       "0                         f    f        f               f              f  ...   \n",
       "1                         f    f        f               f              f  ...   \n",
       "2                         f    f        f               f              f  ...   \n",
       "3                         f    f        f               f              f  ...   \n",
       "4                         f    f        f               f              f  ...   \n",
       "\n",
       "  TT4 measured  TT4 T4U measured T4U FTI measured FTI TBG measured TBG  \\\n",
       "0            f    ?            f   ?            f   ?            f   ?   \n",
       "1            t  128            f   ?            f   ?            f   ?   \n",
       "2            f    ?            f   ?            f   ?            t  11   \n",
       "3            f    ?            f   ?            f   ?            t  26   \n",
       "4            f    ?            f   ?            f   ?            t  36   \n",
       "\n",
       "  referral source     Condition  \n",
       "0           other  NO CONDITION  \n",
       "1           other  NO CONDITION  \n",
       "2           other  NO CONDITION  \n",
       "3           other  NO CONDITION  \n",
       "4           other             S  \n",
       "\n",
       "[5 rows x 31 columns]"
      ]
     },
     "execution_count": 9,
     "metadata": {},
     "output_type": "execute_result"
    }
   ],
   "source": [
    "data.head()"
   ]
  },
  {
   "cell_type": "code",
   "execution_count": 12,
   "id": "fa33ccc5",
   "metadata": {
    "scrolled": true
   },
   "outputs": [
    {
     "name": "stdout",
     "output_type": "stream",
     "text": [
      "73.55582206716092\n"
     ]
    }
   ],
   "source": [
    "mean_age = data['age'].mean()\n",
    "print(mean_age)"
   ]
  },
  {
   "cell_type": "code",
   "execution_count": 20,
   "id": "c73928c3",
   "metadata": {},
   "outputs": [
    {
     "name": "stdout",
     "output_type": "stream",
     "text": [
      "5.218402753781513\n"
     ]
    }
   ],
   "source": [
    "import statistics as st\n",
    "cleaned_data = data\n",
    "cleaned_data.replace('?', np.nan, inplace=True)\n",
    "cleaned_data = data['TSH'].dropna()\n",
    "mean_TSH = st.mean(cleaned_data)\n",
    "print(mean_TSH)"
   ]
  },
  {
   "cell_type": "code",
   "execution_count": 21,
   "id": "5cc95676",
   "metadata": {},
   "outputs": [
    {
     "name": "stdout",
     "output_type": "stream",
     "text": [
      "1.9706288057247259\n"
     ]
    }
   ],
   "source": [
    "cleaned_data = data['T3'].dropna()\n",
    "mean_T3 = st.mean(cleaned_data)\n",
    "print(mean_T3)"
   ]
  },
  {
   "cell_type": "code",
   "execution_count": 22,
   "id": "a6dd6dd1",
   "metadata": {},
   "outputs": [
    {
     "name": "stdout",
     "output_type": "stream",
     "text": [
      "108.70030469644902\n"
     ]
    }
   ],
   "source": [
    "cleaned_data = data['TT4'].dropna()\n",
    "mean_TT4 = st.mean(cleaned_data)\n",
    "print(mean_TT4)"
   ]
  },
  {
   "cell_type": "code",
   "execution_count": 23,
   "id": "0d1eeaad",
   "metadata": {},
   "outputs": [
    {
     "name": "stdout",
     "output_type": "stream",
     "text": [
      "0.9760557216309936\n"
     ]
    }
   ],
   "source": [
    "cleaned_data = data['T4U'].dropna()\n",
    "mean_T4U = st.mean(cleaned_data)\n",
    "print(mean_T4U)"
   ]
  },
  {
   "cell_type": "code",
   "execution_count": 24,
   "id": "5bd42748",
   "metadata": {},
   "outputs": [
    {
     "name": "stdout",
     "output_type": "stream",
     "text": [
      "113.64074551935484\n"
     ]
    }
   ],
   "source": [
    "cleaned_data = data['FTI'].dropna()\n",
    "mean_FTI = st.mean(cleaned_data)\n",
    "print(mean_FTI)"
   ]
  },
  {
   "cell_type": "code",
   "execution_count": 25,
   "id": "d4f43c0d",
   "metadata": {},
   "outputs": [
    {
     "name": "stdout",
     "output_type": "stream",
     "text": [
      "29.87005729512894\n"
     ]
    }
   ],
   "source": [
    "cleaned_data = data['TBG'].dropna()\n",
    "mean_TBG = st.mean(cleaned_data)\n",
    "print(mean_TBG)"
   ]
  },
  {
   "cell_type": "code",
   "execution_count": 26,
   "id": "15694690",
   "metadata": {},
   "outputs": [
    {
     "name": "stdout",
     "output_type": "stream",
     "text": [
      "584.8661532092906\n"
     ]
    }
   ],
   "source": [
    "cleaned_data = data['TSH'].dropna()\n",
    "variance_TSH = st.variance(cleaned_data)\n",
    "print(variance_TSH)"
   ]
  },
  {
   "cell_type": "code",
   "execution_count": 27,
   "id": "91769599",
   "metadata": {},
   "outputs": [
    {
     "name": "stdout",
     "output_type": "stream",
     "text": [
      "0.787796168356156\n"
     ]
    }
   ],
   "source": [
    "cleaned_data = data['T3'].dropna()\n",
    "variance_T3 = st.variance(cleaned_data)\n",
    "print(variance_T3)"
   ]
  },
  {
   "cell_type": "code",
   "execution_count": 28,
   "id": "9c0176ec",
   "metadata": {},
   "outputs": [
    {
     "name": "stdout",
     "output_type": "stream",
     "text": [
      "1407.950791475485\n"
     ]
    }
   ],
   "source": [
    "cleaned_data = data['TT4'].dropna()\n",
    "variance_TT4 = st.variance(cleaned_data)\n",
    "print(variance_TT4)"
   ]
  },
  {
   "cell_type": "code",
   "execution_count": 29,
   "id": "bf2758c3",
   "metadata": {},
   "outputs": [
    {
     "name": "stdout",
     "output_type": "stream",
     "text": [
      "0.040144306390064576\n"
     ]
    }
   ],
   "source": [
    "cleaned_data = data['T4U'].dropna()\n",
    "variance_T4U = st.variance(cleaned_data)\n",
    "print(variance_T4U)"
   ]
  },
  {
   "cell_type": "code",
   "execution_count": 30,
   "id": "aa8eb138",
   "metadata": {},
   "outputs": [
    {
     "name": "stdout",
     "output_type": "stream",
     "text": [
      "1726.5395850611544\n"
     ]
    }
   ],
   "source": [
    "cleaned_data = data['FTI'].dropna()\n",
    "variance_FTI = st.variance(cleaned_data)\n",
    "print(variance_FTI)"
   ]
  },
  {
   "cell_type": "code",
   "execution_count": 31,
   "id": "3c70f21f",
   "metadata": {},
   "outputs": [
    {
     "name": "stdout",
     "output_type": "stream",
     "text": [
      "444.3876429994665\n"
     ]
    }
   ],
   "source": [
    "cleaned_data = data['TBG'].dropna()\n",
    "variance_TBG = st.variance(cleaned_data)\n",
    "print(variance_TBG)"
   ]
  },
  {
   "cell_type": "code",
   "execution_count": 34,
   "id": "a51a1302",
   "metadata": {},
   "outputs": [
    {
     "ename": "IndentationError",
     "evalue": "unindent does not match any outer indentation level (<tokenize>, line 6)",
     "output_type": "error",
     "traceback": [
      "\u001b[1;36m  File \u001b[1;32m<tokenize>:6\u001b[1;36m\u001b[0m\n\u001b[1;33m    return outliers_dict\u001b[0m\n\u001b[1;37m    ^\u001b[0m\n\u001b[1;31mIndentationError\u001b[0m\u001b[1;31m:\u001b[0m unindent does not match any outer indentation level\n"
     ]
    }
   ],
   "source": [
    "for column in data.columns:\n",
    "        if pd.api.types.is_numeric_dtype(df[column]):\n",
    "            outlier_indices = detect_outliers_iqr(df[column])\n",
    "            outliers_dict[column] = outlier_indices\n",
    "    \n",
    "    return outliers_dict\n",
    "\n",
    "def detect_outliers_iqr(df):\n",
    "    outlier_indices = {}\n",
    "    for column in df.columns:\n",
    "        if pd.api.types.is_numeric_dtype(df[column]):\n",
    "            series_clean = df[column].dropna()\n",
    "            Q1 = series_clean.quantile(0.25)\n",
    "            Q3 = series_clean.quantile(0.75)\n",
    "            IQR = Q3 - Q1\n",
    "            lower_bound = Q1 - 1.5 * IQR\n",
    "            upper_bound = Q3 + 1.5 * IQR\n",
    "            outliers = series_clean[(series_clean < lower_bound) | (series_clean > upper_bound)]\n",
    "            outlier_indices[column] = outliers.index.tolist()\n",
    "    \n",
    "    return outlier_indices"
   ]
  },
  {
   "cell_type": "code",
   "execution_count": null,
   "id": "118d2e19",
   "metadata": {},
   "outputs": [],
   "source": []
  }
 ],
 "metadata": {
  "kernelspec": {
   "display_name": "Python 3 (ipykernel)",
   "language": "python",
   "name": "python3"
  },
  "language_info": {
   "codemirror_mode": {
    "name": "ipython",
    "version": 3
   },
   "file_extension": ".py",
   "mimetype": "text/x-python",
   "name": "python",
   "nbconvert_exporter": "python",
   "pygments_lexer": "ipython3",
   "version": "3.11.4"
  }
 },
 "nbformat": 4,
 "nbformat_minor": 5
}
