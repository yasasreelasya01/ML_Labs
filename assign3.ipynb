{
 "cells": [
  {
   "cell_type": "code",
   "execution_count": null,
   "metadata": {},
   "outputs": [],
   "source": [
    "from sklearn.feature_extraction.text import TfidfVectorizer, CountVectorizer\n",
    "import pandas as pd\n",
    "import numpy as np\n",
    "from scipy.sparse import hstack\n",
    "import statistics as st\n",
    "import matplotlib.pyplot as plt\n",
    "import seaborn as sns"
   ]
  },
  {
   "cell_type": "code",
   "execution_count": null,
   "metadata": {},
   "outputs": [],
   "source": [
    "import pandas as pd\n",
    "from sklearn.feature_extraction.text import TfidfVectorizer\n",
    "from sklearn.model_selection import train_test_split\n",
    "from scipy.sparse import csr_matrix"
   ]
  },
  {
   "cell_type": "code",
   "execution_count": null,
   "metadata": {},
   "outputs": [],
   "source": [
    "data = pd.read_csv('/content/drive/MyDrive/train.csv')\n",
    "data['text'] = data['Prompt'] + \" \" + data[\"Answer\"]\n",
    "data = data[['text','Target']]\n",
    "data.fillna(\" \",inplace=True)"
   ]
  },
  {
   "cell_type": "code",
   "execution_count": null,
   "metadata": {},
   "outputs": [],
   "source": [
    "#vectorizer\n",
    "vectorizer = TfidfVectorizer(max_features=5000)\n",
    "# X = vectorizer.fit_transform(data['text'])\n",
    "# y = data['Target']"
   ]
  },
  {
   "cell_type": "code",
   "execution_count": null,
   "metadata": {},
   "outputs": [],
   "source": [
    "# df_features = pd.DataFrame(X_dense, columns=vectorizer.get_feature_names_out())\n",
    "# df_features['Target'] = y.values\n",
    "# df_features.to_csv('features.csv', index=False)\n",
    "df_features = pd.read_csv(\"/content/drive/MyDrive/200onlyfeatures.csv\") #this is the 200 column vectorized dataset"
   ]
  },
  {
   "cell_type": "code",
   "execution_count": null,
   "metadata": {},
   "outputs": [],
   "source": [
    "#A1\n",
    "print(\"Mean Interclass: \")\n",
    "print(df_features.mean(axis = 0)) #mean of the interclass data\n",
    "print(\"Standard Deviation Interclass : \")\n",
    "print(df_features.std(axis = 0)) #standard deviation of interclass data\n",
    "print(\"Centoid distance is : \" ,np.linalg.norm(st.mean(df_features['about'] - st.mean(df_features[\"years\"])))) #centroid distance"
   ]
  },
  {
   "cell_type": "code",
   "execution_count": null,
   "metadata": {},
   "outputs": [],
   "source": [
    "print(\"Intraclass mean\")\n",
    "print(df_features.mean(axis = 1))\n",
    "print(\"Intraclass STD\")\n",
    "print(df_features.std(axis = 1))"
   ]
  },
  {
   "cell_type": "code",
   "execution_count": null,
   "metadata": {},
   "outputs": [],
   "source": [
    "df1 = df_features.iloc[0]"
   ]
  },
  {
   "cell_type": "code",
   "execution_count": null,
   "metadata": {},
   "outputs": [],
   "source": [
    "#A2\n",
    "sns.histplot(df_features[\"and\"]) #last feature of the csv file\n",
    "plt.xlabel('Value')\n",
    "plt.xlim(0,1)\n",
    "plt.ylabel('Frequency')\n",
    "plt.title('Histogram of Feature of the about word column')\n",
    "plt.show()\n"
   ]
  },
  {
   "cell_type": "code",
   "execution_count": null,
   "metadata": {},
   "outputs": [],
   "source": [
    "np1 = np.histogram(df_features[\"and\"])\n",
    "np1 = list(np1)\n",
    "print(\"Mean of occurences is : \" ,np1[0].mean())\n",
    "print(\"Standard deviations of the occurences is : \",np1[0].std())"
   ]
  },
  {
   "cell_type": "code",
   "execution_count": null,
   "metadata": {},
   "outputs": [],
   "source": [
    "#A3\n",
    "df1 = df_features.iloc[0]\n",
    "df2 = df_features.iloc[1]\n",
    "r = 1\n",
    "dist = 0\n",
    "newl = []\n",
    "newl2 = []\n",
    "for j in range (10):\n",
    "  for i in range(len(df1)):\n",
    "    dist += abs(((df1.iloc[i] - df2.iloc[i])**r))\n",
    "  dist = dist**(1/r)\n",
    "  newl2.append(r)\n",
    "  r+=1\n",
    "  newl.append(dist)\n",
    "sns.lineplot(y=newl,x=newl2)\n",
    "plt.ylabel('Distance')\n",
    "plt.xlabel('r')\n",
    "plt.title('Scatter Plot of Distance vs r')\n",
    "plt.xlim(1, 10)\n",
    "plt.ylim(1,10)\n",
    "plt.show()\n",
    "\n",
    "\n",
    "\n",
    "\n"
   ]
  },
  {
   "cell_type": "code",
   "execution_count": null,
   "metadata": {},
   "outputs": [],
   "source": [
    "#A4\n",
    "from sklearn.model_selection import train_test_split\n",
    "X = df_features.drop('Target',axis=1)\n",
    "Y = df_features[\"Target\"]\n",
    "X_train,X_test,Y_train,Y_test = train_test_split(X,Y,test_size=0.3)"
   ]
  },
  {
   "cell_type": "code",
   "execution_count": null,
   "metadata": {},
   "outputs": [],
   "source": [
    "from sklearn.neighbors import KNeighborsClassifier\n",
    "neigh = KNeighborsClassifier(n_neighbors=3)\n",
    "neigh.fit(X_train,Y_train)"
   ]
  },
  {
   "cell_type": "code",
   "execution_count": null,
   "metadata": {},
   "outputs": [],
   "source": [
    "neigh.score(X_test,Y_test) #accuracy of KNN\n"
   ]
  },
  {
   "cell_type": "code",
   "execution_count": null,
   "metadata": {},
   "outputs": [],
   "source": [
    "y_pred = neigh.predict(X_test)\n"
   ]
  },
  {
   "cell_type": "code",
   "execution_count": null,
   "metadata": {},
   "outputs": [],
   "source": [
    "print(\"Training\") #A9\n",
    "y_pred1 = neigh.predict(X_train)\n",
    "print(classification_report(Y_train , y_pred1))\n",
    "print(confusion_matrix(Y_train,y_pred1))"
   ]
  },
  {
   "cell_type": "code",
   "execution_count": null,
   "metadata": {},
   "outputs": [],
   "source": [
    "from sklearn.metrics import confusion_matrix,classification_report #A9\n",
    "print(\"Testing\")\n",
    "print(classification_report(Y_test,y_pred))\n",
    "print(confusion_matrix(Y_test,y_pred))"
   ]
  },
  {
   "cell_type": "code",
   "execution_count": null,
   "metadata": {},
   "outputs": [],
   "source": [
    "neigh = KNeighborsClassifier(n_neighbors=3)\n",
    "neigh.fit(X_train,Y_train)\n",
    "for i in range (1,11):\n",
    "  newneigh = KNeighborsClassifier(n_neighbors=i)\n",
    "  newneigh.fit(X_train,Y_train)\n",
    "  if(newneigh.score(X_test,Y_test) > neigh.score(X_test,Y_test)):\n",
    "    print(f\"{i}th neighbor is greater\")"
   ]
  },
  {
   "cell_type": "code",
   "execution_count": null,
   "metadata": {},
   "outputs": [],
   "source": [
    "newl = []\n",
    "for i in range(1,11):\n",
    "  newneigh = KNeighborsClassifier(n_neighbors=i)\n",
    "  newneigh.fit(X_train,Y_train)\n",
    "  newl.append(newneigh.score(X_test,Y_test))\n",
    "plt.plot(range(1,11),newl)\n",
    "plt.xlabel('Number of Neighbors')\n",
    "plt.ylabel('Accuracy')\n",
    "plt.title('Accuracy vs Number of Neighbors')"
   ]
  }
 ],
 "metadata": {
  "language_info": {
   "name": "python"
  }
 },
 "nbformat": 4,
 "nbformat_minor": 2
}
