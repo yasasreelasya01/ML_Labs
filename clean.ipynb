{
 "cells": [
  {
   "cell_type": "code",
   "execution_count": 3,
   "metadata": {},
   "outputs": [
    {
     "name": "stdout",
     "output_type": "stream",
     "text": [
      "Train dataset after removing nulls:\n",
      "       Id                                             Prompt  \\\n",
      "0  11527  [INST] You are an AI assistant that helps peop...   \n",
      "1   7322  [INST] You are an AI assistant. You will be gi...   \n",
      "2  11742  [INST] You are an AI assistant. You will be gi...   \n",
      "3  20928  [INST] You are an AI assistant. User will you ...   \n",
      "4  25830  [INST] You are an AI assistant. User will you ...   \n",
      "\n",
      "                                              Answer  Target  \n",
      "0  Step-by-step reasoning process:\\n1. Randy spen...       0  \n",
      "1  What is the temperature at which hypothermia b...       0  \n",
      "2  Answer: c) No. \\n\\nThe hypothesis is false bec...       0  \n",
      "3                                         Prismatoid       0  \n",
      "4                                             Case B       0  \n",
      "Test dataset after removing nulls:\n",
      "       Id                                             Prompt  \\\n",
      "0  20568  [INST] You are an AI assistant. You will be gi...   \n",
      "1  17686  question:Question: This article: According to ...   \n",
      "2  13035  [INST] You are an AI assistant. Provide a deta...   \n",
      "3  22646  [INST] You are an AI assistant. User will you ...   \n",
      "4   5535  [INST] You are an AI assistant. You will be gi...   \n",
      "\n",
      "                                              Answer  \n",
      "0  London Irish lost to Grenoble 21-6 in the Euro...  \n",
      "1                                              10.2%  \n",
      "2                                       Can't answer  \n",
      "3  'Ahora, por lo tanto, no eres tú quien me enví...  \n",
      "4  c). can decrease blood pressure \\n d). can dec...  \n"
     ]
    }
   ],
   "source": [
    "import pandas as pd\n",
    "\n",
    "train = pd.read_csv('train.csv')\n",
    "test = pd.read_csv('test.csv')\n",
    "\n",
    "# Drop rows with null values from the train dataset\n",
    "train = train.dropna(subset=['Id', 'Prompt', 'Answer', 'Target'])\n",
    "\n",
    "# Drop rows with null values from the test dataset (excluding 'Target' as it doesn't exist)\n",
    "test = test.dropna(subset=['Id', 'Prompt', 'Answer'])\n",
    "\n",
    "# Display the datasets to check the changes\n",
    "print(\"Train dataset after removing nulls:\\n\", train.head())\n",
    "print(\"Test dataset after removing nulls:\\n\", test.head())\n"
   ]
  }
 ],
 "metadata": {
  "kernelspec": {
   "display_name": "Python 3",
   "language": "python",
   "name": "python3"
  },
  "language_info": {
   "codemirror_mode": {
    "name": "ipython",
    "version": 3
   },
   "file_extension": ".py",
   "mimetype": "text/x-python",
   "name": "python",
   "nbconvert_exporter": "python",
   "pygments_lexer": "ipython3",
   "version": "3.10.0"
  }
 },
 "nbformat": 4,
 "nbformat_minor": 2
}
